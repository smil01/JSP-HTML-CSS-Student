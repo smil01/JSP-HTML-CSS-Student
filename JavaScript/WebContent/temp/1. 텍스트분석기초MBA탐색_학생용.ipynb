{
 "cells": [
  {
   "cell_type": "markdown",
   "metadata": {},
   "source": [
    "# ex01"
   ]
  },
  {
   "cell_type": "markdown",
   "metadata": {},
   "source": [
    "## 텍스트 데이터 다루기\n",
    "- 수치형 데이터와 달리, 텍스트 데이터의 길이는 일정하지 않다\n",
    "- 전처리가 많이 필요하다\n",
    "\n",
    "### 영화 리뷰 감성 분석\n",
    "- 스탠포드 대학의 앤드류 마스가 IMDb(Internet Movie Database)에서 수집한 영화 리뷰 텍스트를 분석\n",
    "- 25,000개의 훈련 데이터와 25,000개의 테스트 데이터를 제공\n",
    "- 다음 사이트에서 데이터를 다운로든 받는다 (파일명 aclIMDb_v1.tar.gz, 80Mb)\n",
    "http://ai.stanford.edu/~amaas/data/sentiment/\n",
    "- 압축을 푼다 (tar -zcvf 파일명)\n",
    "- aclIMDb 디렉토리에 여러가지 파일이 생긴다\n",
    "- 레이블: 양성/음성 (1~10점에서, 7점 이상은 양성, 4점 이하는 음성으로 표현함, 중간 데이터는 포함하지 않음)"
   ]
  },
  {
   "cell_type": "code",
   "execution_count": 1,
   "metadata": {},
   "outputs": [],
   "source": [
    "from sklearn.datasets import load_files\n",
    "import numpy as np"
   ]
  },
  {
   "cell_type": "code",
   "execution_count": 2,
   "metadata": {},
   "outputs": [
    {
     "data": {
      "text/plain": [
       "sklearn.utils.Bunch"
      ]
     },
     "execution_count": 2,
     "metadata": {},
     "output_type": "execute_result"
    }
   ],
   "source": [
    "# 텍스트와 레이블을 포함하고 있는 Bunch 오브젝트를 반환\n",
    "reviews_train = load_files(\"./data/aclImdb/train\", shuffle=True)\n",
    "type(reviews_train)"
   ]
  },
  {
   "cell_type": "code",
   "execution_count": 3,
   "metadata": {},
   "outputs": [
    {
     "data": {
      "text/plain": [
       "dict_keys(['data', 'filenames', 'target_names', 'target', 'DESCR'])"
      ]
     },
     "execution_count": 3,
     "metadata": {},
     "output_type": "execute_result"
    }
   ],
   "source": [
    "reviews_train.keys()"
   ]
  },
  {
   "cell_type": "code",
   "execution_count": 4,
   "metadata": {},
   "outputs": [
    {
     "name": "stdout",
     "output_type": "stream",
     "text": [
      "text_train의 타입: <class 'list'>\n",
      "text_train의 길이: 25000\n"
     ]
    }
   ],
   "source": [
    "#지금 text_train인 이유는 아직 전처리도 안하고 전부 쓸건아니기때문에 X_train이라고 안한다.\n",
    "text_train, y_train = reviews_train.data, reviews_train.target#데이터와, 리뷰글씨\n",
    "print(\"text_train의 타입: {}\".format(type(text_train)))\n",
    "print(\"text_train의 길이: {}\".format(len(text_train)))"
   ]
  },
  {
   "cell_type": "code",
   "execution_count": 5,
   "metadata": {},
   "outputs": [
    {
     "name": "stdout",
     "output_type": "stream",
     "text": [
      "text_train:\n",
      "[b\"Zero Day leads you to think, even re-think why two boys/young men would do what they did - commit mutual suicide via slaughtering their classmates. It captures what must be beyond a bizarre mode of being for two humans who have decided to withdraw from common civility in order to define their own/mutual world via coupled destruction.<br /><br />It is not a perfect movie but given what money/time the filmmaker and actors had - it is a remarkable product. In terms of explaining the motives and actions of the two young suicide/murderers it is better than 'Elephant' - in terms of being a film that gets under our 'rationalistic' skin it is a far, far better film than almost anything you are likely to see. <br /><br />Flawed but honest with a terrible honesty.\", b'Words can\\'t describe how bad this movie is. I can\\'t explain it by writing only. You have too see it for yourself to get at grip of how horrible a movie really can be. Not that I recommend you to do that. There are so many clich\\xc3\\xa9s, mistakes (and all other negative things you can imagine) here that will just make you cry. To start with the technical first, there are a LOT of mistakes regarding the airplane. I won\\'t list them here, but just mention the coloring of the plane. They didn\\'t even manage to show an airliner in the colors of a fictional airline, but instead used a 747 painted in the original Boeing livery. Very bad. The plot is stupid and has been done many times before, only much, much better. There are so many ridiculous moments here that i lost count of it really early. Also, I was on the bad guys\\' side all the time in the movie, because the good guys were so stupid. \"Executive Decision\" should without a doubt be you\\'re choice over this one, even the \"Turbulence\"-movies are better. In fact, every other movie in the world is better than this one.']\n",
      "y_train:\n",
      "[1 0 1 0 0 1 1 0 0 1 0 0 0 1 0 1 1 1 1 1]\n"
     ]
    }
   ],
   "source": [
    "#첫번째부터 2번째까지 리뷰(0부터 1까지)\n",
    "print(\"text_train:\\n{}\".format(text_train[:2]))\n",
    "print(\"y_train:\\n{}\".format(y_train[0:20]))\n",
    "#0은 부정 neg 1은 긍정 pos"
   ]
  },
  {
   "cell_type": "code",
   "execution_count": 6,
   "metadata": {},
   "outputs": [
    {
     "data": {
      "text/plain": [
       "bytes"
      ]
     },
     "execution_count": 6,
     "metadata": {},
     "output_type": "execute_result"
    }
   ],
   "source": [
    "#글자안에 있는 <br />을 지워줄건데 replace사용시 타입이 같아야한다.\n",
    "type(text_train[0])#text_train타입은 bytes"
   ]
  },
  {
   "cell_type": "code",
   "execution_count": 7,
   "metadata": {},
   "outputs": [],
   "source": [
    "#모든 br을 지우고 스페이스로 바꾼다.\n",
    "text_train = [doc.replace(b\"<br />\", b\" \") for doc in text_train]"
   ]
  },
  {
   "cell_type": "code",
   "execution_count": 8,
   "metadata": {
    "scrolled": true
   },
   "outputs": [
    {
     "name": "stdout",
     "output_type": "stream",
     "text": [
      "text_train:\n",
      "[b\"Poor Ivy: Though to the manner born, she had the bad luck to marry a charming wastrel (Richard Ney). As the movie is set in the 20s or 30s, when rigid Victorian ideas of class were starting to fray at the edges, this uncertain status vexes her unduly. The Gretorexes (for so they are called) don't know where their next shilling is coming from but there are yachting parties and fancy-dress balls in posh pleasaunces aplenty to tempt her. When Ivy (Joan Fontaine) makes the acquaintance of a wealthy older gent (Herbert Marshall, who must have been born middle-aged), she sets one of her extravant chapeaux for him. Luckily, one of the beaux she still strings along (Patric Knowles) is a physician whose consulting rooms provide a cache of poison, with which she bids her hubby farewell. The fact that it implicates Knowles doesn't phase her a bit, even as the hours trickle by until he should be hanged by the neck until dead. The turning of the plot depends on police inspector Sir Cedric Hardwicke; Knowles' mother (the redoubtable Lucile Watson); and Knowles' loyal housekeeper (Una O'Connor). Sam Wood adds some subtle touches to this well above average melodrama; Fontaine's luminous face supplies the rest.\", b'Those who are not familiar with Cassandra Peterson\\'s alter-ego Elvira, then this is a good place to start.  \"Elvira, Mistress of the Dark\" starts off with our heroine with the gravity defying boobs receiving a message. It seems that a great aunt of hers has died and that she needs to be present for the reading of the will. Anxious to raise money for a show she wants to open in Las Vegas, she decides to go in hopes of getting lots and lots of money.  Unfortunately, the place she has to go is the town of Fallwell, Massachusetts. Having to stay a spell due to her car breaking down, she finds out that her great aunt left her 3 things: a house, a dog and a cookbook. The town residents have mixed reactions:the teens like her, the women hate her, and the men lust after her (Although trying to remain moral pillars of the community). Her worst problem turns out to be her great uncle Vincent (W. Morgan Sheppard), because he wants her cookbook. Seems that the cookbook is a book of spells that will make him a more powerful warlock.  The film is actually pretty funny, with Peterson a.k.a. Elvira using her \"endowments\" and sexiness as a joke (\"And don\\'t forget, tomorrow we\\'re showing the head with two things... I mean the thing with two heads\"). Especially funny as Edie McClurg as Chastity Pariah, the woman that works her hardest to keep the town in line, but ends up looking ridiculous (The picnic scene is the perfect example). Deserves a peek (The film, not her boobs, of course).', b'Times are tough for Angel Town, gangs rule with an iron fist and for reasons mostly unknown (Mainly due to embarrassing writing) the gangs want a street kid, Martine to join the gangs, so they beat him up everyday. However due to the presence of an Olympic kick-boxer (Olivier \"World\\'s lamest actor\" Gruner) named Jacques, hope is on the way. Angel Town is seriously one of the most inept message movies ever made (And I\\'ve seen my share) it seems to consist of the idea that all gang infested neighborhoods need, are French kick-boxers who can\\'t act. Worst of all there are so many awkward moments it\\'s just truly hilarious. Best of all comes from the exchange between Gruner and Aragon which basically sums up how ridiculous this thing is. To Wit: \"You like the fighting? (Olivier grabs his Asian best friend in a headlock) I could kill him right? When I want him dead he dies! The reason why I don\\'t want him dead is because i\\'m afraid of him, and I know that if I kill him his son and wife will kill me, that\\'s why he doesn\\'t die!\"   Of course the fact that it\\'s wrong to kill someone, let alone your best friend is of course left out of the equation. Odd.  However don\\'t let me make this sound that I hated this movie, far from it, it\\'s so terrible it\\'s priceless. The biggest laughs come at the end in the disastrous finale which sees Grunner going one on one with gang-members who (the film\\'s biggest logic gap)decline the use of pistols. Also a handicapped Vietnam vet helps out by shooting his machine gun at the gangs, while Gruner kick-boxes the rest. All of this set to the sound of horrible \"Mexican\" accents and surreal energy that make this one memorable for fans of cinematic trash such as this.  The other treat about this movie, is that for some reason Olivier Gruner never attends college despite that\\'s the main reason he\\'s here in the states and not in France getting it on with his girlfriend (In a graveyard in the film\\'s awkward beginning) Angel Town is without a doubt a failure on all conceivable levels but if you laugh at moronic martial arts movies with insane levels of action that make no sense on any level, this is the perfect movie for you. On the other hand make sure to down tequila, like the laughable opening song details \"Ain\\'t no mercy in Angel Town\"   * out of 4-(Bad)', b'\\'1408\\' is the latest hodge podge of cheap scare tactics. The kind that might make date-movie styled horror fans occasionally jump in their seat and scream in your ear, but disappoint audiences searching for a little depth and direction.  John Cusak plays a writer who\\'s made a career of writing books describing his experiences of staying in rumored haunted hotels. Despite assurances by patrons and owners that ghosts roam the halls, there is little to make him a real believer in the paranormal. When he learns of the history of Room 1408 at the Overlook Hotel--no wait, I mean, Dolphin Hotel in New York City--he decides it would make the perfect closing chapter to his latest book. But, Samuel L. Jackson, playing the hotel owner, strongly attempts to dissuade his guest with narration of the atrocities that have occurred in theat room since the hotel\\'s opening many years ago. The story is simple and we, as possible skeptics, must sit through Jackson\\'s lengthy foreshadowing ramble.   In other words: be afraid! Be very afraid!  Of course, it would be easy to convince audiences that they\\'ve just paid to see an edge-of-the-seat thriller if it didn\\'t take so long to build up to this point. And also, if what followed was a lot more than cheap \"boos\" that become so frequent and arbitrary that eventually, you might soon expect them. The temperature in the room changes automatically. The walls drip with blood. The fearless writer can\\'t open the door, etc. And after nearly an hour and a half of delivering these to audiences promised big thrills, you might sit and hope that at least you can be wowed by the ending. With suspicions of dream sequences and other derivative time-wasters, even that fails to quell our doubts that before the movie is over, we might finally have something to make the movie a little less than completely forgettable.  Despite grand performances (as always) by Cusak, who essentially is the entire film, most everyone else of note is wasted (i.e. Samuel L. Jackson) in insignificant minor roles. The true mystery here is how this movie received such a high viewer rating. Ballot-stuffing ghosts?', b\"The Perfectly Stupid Weapon. I think the guys dancing at the beginning of one of Steven Segal's movies was intented to mock Jeff doing his forms to dance music at the beginning of this stupid movie. The plot is predictable, the fights were fair and Jeff acts about as well as the sofa he beats with some sort of weapon in one scene.\", b\"This movie isn't as bad as I heard. It was enjoyable, funny and I love that is revolves around the holiday season. It totally has me in the mood to Christmas shop and listen to holiday music. When this movie comes out on DVD it will take the place of Christmas Vacation in my collection. It will be a movie to watch every year after Thanksgiving to get me in the mood for the best time of the year. I heard that Ben's character was a bit crazy but I think it just adds to the movie and why be so serious all the time. Take it for what is it, a Christmas comedy with a love twist. I enjoyed it. No, it isn't Titanic and it won't make your heart pound with anticipation but it will bring on a laugh or two. So go laugh and have a good time:)\", b\"What can I say? I know this movie from start to finish. It's hilarious. It's an strong link to my past and will change the way I view film in the future. Hypothetically speaking :) The down-fall? There's no Socrates Johnson!\"]\n"
     ]
    }
   ],
   "source": [
    "#사라졌는지 확인\n",
    "print(\"text_train:\\n{}\".format(text_train[20000:20007]))"
   ]
  },
  {
   "cell_type": "code",
   "execution_count": 9,
   "metadata": {},
   "outputs": [
    {
     "name": "stdout",
     "output_type": "stream",
     "text": [
      "클래스별 샘플 수 (훈련 데이터): [12500 12500]\n"
     ]
    }
   ],
   "source": [
    "print(\"클래스별 샘플 수 (훈련 데이터): {}\".format(np.bincount(y_train)))\n",
    "#긍정이 12500개 부정이 12500개\n",
    "#이미 만들어진 데이터이기 때문에 딱 맞춰놓음"
   ]
  },
  {
   "cell_type": "code",
   "execution_count": 10,
   "metadata": {},
   "outputs": [
    {
     "data": {
      "text/plain": [
       "array([1, 0, 1, 0, 0, 1, 1, 0, 0, 1, 0, 0, 0, 1, 0, 1, 1, 1, 1, 1])"
      ]
     },
     "execution_count": 10,
     "metadata": {},
     "output_type": "execute_result"
    }
   ],
   "source": [
    "#0은 부정 neg 1은 긍정 pos\n",
    "y_train[:20]"
   ]
  },
  {
   "cell_type": "code",
   "execution_count": 11,
   "metadata": {},
   "outputs": [
    {
     "data": {
      "text/plain": [
       "sklearn.utils.Bunch"
      ]
     },
     "execution_count": 11,
     "metadata": {},
     "output_type": "execute_result"
    }
   ],
   "source": [
    "#train을 가지고 온 것처럼 똑같이 test데이터도 가지고온다.\n",
    "reviews_test = load_files('./data/aclImdb/test/')\n",
    "type(reviews_test)"
   ]
  },
  {
   "cell_type": "code",
   "execution_count": 12,
   "metadata": {},
   "outputs": [
    {
     "name": "stdout",
     "output_type": "stream",
     "text": [
      "테스트 데이터의 문서 수: 25000\n",
      "클래스별 샘플 수 (테스트 데이터): [12500 12500]\n"
     ]
    }
   ],
   "source": [
    "text_test, y_test = reviews_test.data, reviews_test.target\n",
    "print(\"테스트 데이터의 문서 수: {}\".format(len(text_test)))\n",
    "print(\"클래스별 샘플 수 (테스트 데이터): {}\".format(np.bincount(y_test)))\n",
    "text_test = [doc.replace(b\"<br />\", b\" \") for doc in text_test]"
   ]
  },
  {
   "cell_type": "code",
   "execution_count": 13,
   "metadata": {},
   "outputs": [
    {
     "data": {
      "text/plain": [
       "array([1, 0, 1, 0, 0, 1, 1, 0, 0, 1, 0, 0, 0, 1, 0, 1, 1, 1, 1, 1])"
      ]
     },
     "execution_count": 13,
     "metadata": {},
     "output_type": "execute_result"
    }
   ],
   "source": [
    "y_test[:20]"
   ]
  },
  {
   "cell_type": "markdown",
   "metadata": {},
   "source": [
    "# ex02"
   ]
  },
  {
   "cell_type": "markdown",
   "metadata": {},
   "source": [
    "### 텍스트 데이터를 BOW로 표현하기\n",
    "- 문장의 구조 정보는 잃고, 문서내에 단어의 발생 빈도만 분석에 사용하는 방법\n",
    "- 토큰화: 공백이나 구두점을 경계로 단어는 나누는 것\n",
    "- **어휘사전** 구축: 모든 문서에 나타난 모든 단어의 사전을 만든다 (0번 부터 단어에 번호를 배정)\n",
    "- 인코딩: 사전의 각 단어가 몇 번 나타났는지를 측정"
   ]
  },
  {
   "cell_type": "markdown",
   "metadata": {},
   "source": [
    "#### 샘플 데이터에 BOW 적용하기\n",
    "- CountVectorizer를 사용\n",
    "- fit으로 훈련데이터를 토큰으로 나누고 어휘사전을 구축하여, vocabulary_ 에 속성을 저장\n",
    "- BOW 형식으로 만들려면(인코딩하려면) transform()을 수행 (sparse 형식으로 저장함)"
   ]
  },
  {
   "cell_type": "code",
   "execution_count": 14,
   "metadata": {},
   "outputs": [],
   "source": [
    "#임의의 데이터를 활용한 BOW연습\n",
    "bards_words =[\"The fool doth think he is wise,\",\n",
    "              \"but the wise man man knows himself to be a fool\"]\n",
    "#바보는 그가 현명하다고 생각한다. \"\n",
    "#\"그러나 지혜로운 사람은 자신이 어리 석다는 것을 안다\""
   ]
  },
  {
   "cell_type": "code",
   "execution_count": 15,
   "metadata": {},
   "outputs": [],
   "source": [
    "from sklearn.feature_extraction.text import CountVectorizer"
   ]
  },
  {
   "cell_type": "code",
   "execution_count": 16,
   "metadata": {},
   "outputs": [],
   "source": [
    "vect = CountVectorizer()"
   ]
  },
  {
   "cell_type": "code",
   "execution_count": 17,
   "metadata": {},
   "outputs": [
    {
     "data": {
      "text/plain": [
       "CountVectorizer(analyzer='word', binary=False, decode_error='strict',\n",
       "        dtype=<class 'numpy.int64'>, encoding='utf-8', input='content',\n",
       "        lowercase=True, max_df=1.0, max_features=None, min_df=1,\n",
       "        ngram_range=(1, 1), preprocessor=None, stop_words=None,\n",
       "        strip_accents=None, token_pattern='(?u)\\\\b\\\\w\\\\w+\\\\b',\n",
       "        tokenizer=None, vocabulary=None)"
      ]
     },
     "execution_count": 17,
     "metadata": {},
     "output_type": "execute_result"
    }
   ],
   "source": [
    "#어휘사전을 구축만 하면 되니까 값을 하나만 넣는다.\n",
    "#어휘사전 구축\n",
    "vect.fit(bards_words)"
   ]
  },
  {
   "cell_type": "code",
   "execution_count": 18,
   "metadata": {},
   "outputs": [
    {
     "name": "stdout",
     "output_type": "stream",
     "text": [
      "어휘 사전의 크기: 13\n",
      "어휘 사전의 내용:\n",
      "\n",
      " {'the': 9, 'fool': 3, 'doth': 2, 'think': 10, 'he': 4, 'is': 6, 'wise': 12, 'but': 1, 'man': 8, 'knows': 7, 'himself': 5, 'to': 11, 'be': 0}\n"
     ]
    }
   ],
   "source": [
    "#vocabulary(보카디벌리) : 어휘\n",
    "print(\"어휘 사전의 크기: {}\".format(len(vect.vocabulary_)))\n",
    "print(\"어휘 사전의 내용:\\n\\n {}\".format(vect.vocabulary_))     "
   ]
  },
  {
   "cell_type": "code",
   "execution_count": 19,
   "metadata": {},
   "outputs": [],
   "source": [
    "#모델.transform으로 실행\n",
    "bag_of_words = vect.transform(bards_words)"
   ]
  },
  {
   "cell_type": "code",
   "execution_count": 20,
   "metadata": {},
   "outputs": [
    {
     "name": "stdout",
     "output_type": "stream",
     "text": [
      "BOW: <2x13 sparse matrix of type '<class 'numpy.int64'>'\n",
      "\twith 16 stored elements in Compressed Sparse Row format>\n"
     ]
    }
   ],
   "source": [
    "print(\"BOW: {}\".format(repr(bag_of_words)))\n",
    "#너무 많은 내용이 있어서 글로 알려준다.\n",
    "#--> 2개의 열, 13개의 행이 있다."
   ]
  },
  {
   "cell_type": "code",
   "execution_count": 21,
   "metadata": {},
   "outputs": [
    {
     "name": "stdout",
     "output_type": "stream",
     "text": [
      "BOW 표현:\n",
      "  (0, 2)\t1\n",
      "  (0, 3)\t1\n",
      "  (0, 4)\t1\n",
      "  (0, 6)\t1\n",
      "  (0, 9)\t1\n",
      "  (0, 10)\t1\n",
      "  (0, 12)\t1\n",
      "  (1, 0)\t1\n",
      "  (1, 1)\t1\n",
      "  (1, 3)\t1\n",
      "  (1, 5)\t1\n",
      "  (1, 7)\t1\n",
      "  (1, 8)\t2\n",
      "  (1, 9)\t1\n",
      "  (1, 11)\t1\n",
      "  (1, 12)\t1\n",
      "BOW 표현(array):\n",
      "[[0 0 1 1 1 0 1 0 0 1 1 0 1]\n",
      " [1 1 0 1 0 1 0 1 2 1 0 1 1]]\n"
     ]
    }
   ],
   "source": [
    "##희소행렬을 일반 배열로 바꿔서 보고싶으면 toarray()쓰면된다. \n",
    "#지금은 13개밖에 없어서 가능하지만 더 많은 데이터면 컴퓨터가 뻑난다.\n",
    "#희소행렬을 일반 배열로 바꾸어 보려면 toarray 메소드를 사용하여 Numpy배열로 바꿔야 한다 \n",
    "#데이터의 크기가 클 때에는 Memory Error 발생을 주의 해야 한다.\n",
    "print(\"BOW 표현:\\n{}\".format(bag_of_words))\n",
    "print(\"BOW 표현(array):\\n{}\".format(bag_of_words.toarray()))\n",
    "\n",
    "#결과를 보면 the는 0, fool은 0, doth는 1 ..."
   ]
  },
  {
   "cell_type": "markdown",
   "metadata": {},
   "source": [
    "## 한글로 실습"
   ]
  },
  {
   "cell_type": "code",
   "execution_count": 74,
   "metadata": {},
   "outputs": [],
   "source": [
    "words =[\"사과는 맛있어 맛있어\",\n",
    "       \"포도도 맛있어\",\n",
    "       \"바나나는 맛없어\"]"
   ]
  },
  {
   "cell_type": "code",
   "execution_count": 75,
   "metadata": {},
   "outputs": [],
   "source": [
    "vect2 = CountVectorizer()"
   ]
  },
  {
   "cell_type": "code",
   "execution_count": 76,
   "metadata": {},
   "outputs": [
    {
     "data": {
      "text/plain": [
       "CountVectorizer(analyzer='word', binary=False, decode_error='strict',\n",
       "        dtype=<class 'numpy.int64'>, encoding='utf-8', input='content',\n",
       "        lowercase=True, max_df=1.0, max_features=None, min_df=1,\n",
       "        ngram_range=(1, 1), preprocessor=None, stop_words=None,\n",
       "        strip_accents=None, token_pattern='(?u)\\\\b\\\\w\\\\w+\\\\b',\n",
       "        tokenizer=None, vocabulary=None)"
      ]
     },
     "execution_count": 76,
     "metadata": {},
     "output_type": "execute_result"
    }
   ],
   "source": [
    "vect2.fit(words)"
   ]
  },
  {
   "cell_type": "code",
   "execution_count": 77,
   "metadata": {},
   "outputs": [
    {
     "name": "stdout",
     "output_type": "stream",
     "text": [
      "어휘 사전의 크기: 5\n",
      "어휘 사전의 내용:\n",
      "\n",
      " {'사과는': 3, '맛있어': 1, '포도도': 4, '바나나는': 2, '맛없어': 0}\n"
     ]
    }
   ],
   "source": [
    "print(\"어휘 사전의 크기: {}\".format(len(vect2.vocabulary_)))\n",
    "print(\"어휘 사전의 내용:\\n\\n {}\".format(vect2.vocabulary_))     "
   ]
  },
  {
   "cell_type": "code",
   "execution_count": 78,
   "metadata": {},
   "outputs": [
    {
     "name": "stdout",
     "output_type": "stream",
     "text": [
      "BOW 표현:\n",
      "  (0, 1)\t2\n",
      "  (0, 3)\t1\n",
      "  (1, 1)\t1\n",
      "  (1, 4)\t1\n",
      "  (2, 0)\t1\n",
      "  (2, 2)\t1\n",
      "BOW 표현(array):\n",
      "[[0 2 0 1 0]\n",
      " [0 1 0 0 1]\n",
      " [1 0 1 0 0]]\n"
     ]
    }
   ],
   "source": [
    "of_words = vect2.transform(words)\n",
    "\n",
    "print(\"BOW 표현:\\n{}\".format(of_words))\n",
    "print(\"BOW 표현(array):\\n{}\".format(of_words.toarray()))"
   ]
  },
  {
   "cell_type": "markdown",
   "metadata": {},
   "source": [
    "### 영화 리뷰에 대한 BOW (감성분석)"
   ]
  },
  {
   "cell_type": "code",
   "execution_count": 79,
   "metadata": {},
   "outputs": [
    {
     "data": {
      "text/plain": [
       "CountVectorizer(analyzer='word', binary=False, decode_error='strict',\n",
       "        dtype=<class 'numpy.int64'>, encoding='utf-8', input='content',\n",
       "        lowercase=True, max_df=1.0, max_features=None, min_df=1,\n",
       "        ngram_range=(1, 1), preprocessor=None, stop_words=None,\n",
       "        strip_accents=None, token_pattern='(?u)\\\\b\\\\w\\\\w+\\\\b',\n",
       "        tokenizer=None, vocabulary=None)"
      ]
     },
     "execution_count": 79,
     "metadata": {},
     "output_type": "execute_result"
    }
   ],
   "source": [
    "#앞의 IMDb리뷰의 훈련데이터와 테스트데이터\n",
    "vect = CountVectorizer()\n",
    "vect.fit(text_train)"
   ]
  },
  {
   "cell_type": "code",
   "execution_count": 80,
   "metadata": {},
   "outputs": [
    {
     "name": "stdout",
     "output_type": "stream",
     "text": [
      "X_train:\n",
      "<25000x74849 sparse matrix of type '<class 'numpy.int64'>'\n",
      "\twith 3431196 stored elements in Compressed Sparse Row format>\n"
     ]
    }
   ],
   "source": [
    "X_train = vect.transform(text_train)\n",
    "print(\"X_train:\\n{}\".format(repr(X_train)))# repr사용자가 보기 쉬운 형태로 반환(print안쓰고 그냥 객채만 쓰는거랑 같은 값이 추출됨, 프린트하면 다른 값이 추출되나 repr때문에 그렇게 안된다.)\n",
    "# 훈련데이터의 BOW표현인 Xtrain의 크기는 25,000 * 74849로 이 어휘사전은 단어를 7만5천개 담고 있음\n",
    "# 이 데이터는 SciPy희소행렬로 저장되어 있음. "
   ]
  },
  {
   "cell_type": "code",
   "execution_count": 81,
   "metadata": {
    "scrolled": true
   },
   "outputs": [
    {
     "name": "stdout",
     "output_type": "stream",
     "text": [
      "  (0, 1639)\t1\n",
      "  (0, 1657)\t1\n",
      "  (0, 2768)\t1\n",
      "  (0, 3258)\t2\n",
      "  (0, 3718)\t1\n",
      "  (0, 4124)\t1\n",
      "  (0, 6334)\t1\n",
      "  (0, 6663)\t2\n",
      "  (0, 7095)\t2\n",
      "  (0, 7145)\t1\n",
      "  (0, 7518)\t1\n",
      "  (0, 8714)\t1\n",
      "  (0, 9881)\t2\n",
      "  (0, 10582)\t1\n",
      "  (0, 12582)\t1\n",
      "  (0, 12694)\t1\n",
      "  (0, 13616)\t1\n",
      "  (0, 13635)\t1\n",
      "  (0, 15137)\t1\n",
      "  (0, 16697)\t1\n",
      "  (0, 16929)\t1\n",
      "  (0, 17169)\t1\n",
      "  (0, 17920)\t1\n",
      "  (0, 18292)\t1\n",
      "  (0, 19326)\t1\n",
      "  :\t:\n",
      "  (24999, 68412)\t1\n",
      "  (24999, 68769)\t1\n",
      "  (24999, 70505)\t1\n",
      "  (24999, 70920)\t1\n",
      "  (24999, 71159)\t2\n",
      "  (24999, 71547)\t1\n",
      "  (24999, 71923)\t1\n",
      "  (24999, 72196)\t6\n",
      "  (24999, 72339)\t1\n",
      "  (24999, 72557)\t1\n",
      "  (24999, 72703)\t1\n",
      "  (24999, 72709)\t1\n",
      "  (24999, 72757)\t1\n",
      "  (24999, 72768)\t1\n",
      "  (24999, 72773)\t1\n",
      "  (24999, 72904)\t2\n",
      "  (24999, 73091)\t2\n",
      "  (24999, 73108)\t1\n",
      "  (24999, 73342)\t2\n",
      "  (24999, 73599)\t1\n",
      "  (24999, 73683)\t1\n",
      "  (24999, 73700)\t1\n",
      "  (24999, 74216)\t1\n",
      "  (24999, 74324)\t4\n",
      "  (24999, 74349)\t1\n"
     ]
    }
   ],
   "source": [
    "print(X_train)"
   ]
  },
  {
   "cell_type": "code",
   "execution_count": 82,
   "metadata": {
    "scrolled": true
   },
   "outputs": [],
   "source": [
    "# get_feature_names 메소드는 각 특성에 해당하는 단어를 리스트로 반환함. \n",
    "feature_names = vect.get_feature_names()"
   ]
  },
  {
   "cell_type": "code",
   "execution_count": 83,
   "metadata": {},
   "outputs": [
    {
     "name": "stdout",
     "output_type": "stream",
     "text": [
      "특성 개수: 74849\n",
      "처음 20개 특성:\n",
      "['00', '000', '0000000000001', '00001', '00015', '000s', '001', '003830', '006', '007', '0079', '0080', '0083', '0093638', '00am', '00pm', '00s', '01', '01pm', '02']\n",
      "20010에서 20030까지 특성:\n",
      "['dratted', 'draub', 'draught', 'draughts', 'draughtswoman', 'draw', 'drawback', 'drawbacks', 'drawer', 'drawers', 'drawing', 'drawings', 'drawl', 'drawled', 'drawling', 'drawn', 'draws', 'draza', 'dre', 'drea']\n",
      "매 2000번째 특성:\n",
      "['00', 'aesir', 'aquarian', 'barking', 'blustering', 'bête', 'chicanery', 'condensing', 'cunning', 'detox', 'draper', 'enshrined', 'favorit', 'freezer', 'goldman', 'hasan', 'huitieme', 'intelligible', 'kantrowitz', 'lawful', 'maars', 'megalunged', 'mostey', 'norrland', 'padilla', 'pincher', 'promisingly', 'receptionist', 'rivals', 'schnaas', 'shunning', 'sparse', 'subset', 'temptations', 'treatises', 'unproven', 'walkman', 'xylophonist']\n"
     ]
    }
   ],
   "source": [
    "print(\"특성 개수: {}\".format(len(feature_names)))\n",
    "print(\"처음 20개 특성:\\n{}\".format(feature_names[:20]))\n",
    "print(\"20010에서 20030까지 특성:\\n{}\".format(feature_names[20010:20030]))\n",
    "print(\"매 2000번째 특성:\\n{}\".format(feature_names[::2000]))"
   ]
  },
  {
   "cell_type": "markdown",
   "metadata": {},
   "source": [
    "- 의미 없는 숫자들이 평가 문서에 많이 들어 있는 것을 알 수 있다.\n",
    "- 아무런 데이터 전처리를 하지 않고, 로지스틱 회귀분석을 적용할 때의 성능을 살펴보겠다.\n",
    "- 교차검증을 해보니, 이 모델의 성능은 0.88이었다"
   ]
  },
  {
   "cell_type": "code",
   "execution_count": 84,
   "metadata": {},
   "outputs": [],
   "source": [
    "from sklearn.model_selection import cross_val_score\n",
    "from sklearn.linear_model import LogisticRegression"
   ]
  },
  {
   "cell_type": "code",
   "execution_count": 85,
   "metadata": {},
   "outputs": [
    {
     "name": "stderr",
     "output_type": "stream",
     "text": [
      "C:\\Users\\pc-21\\Anaconda3\\lib\\site-packages\\sklearn\\linear_model\\logistic.py:433: FutureWarning: Default solver will be changed to 'lbfgs' in 0.22. Specify a solver to silence this warning.\n",
      "  FutureWarning)\n"
     ]
    },
    {
     "name": "stdout",
     "output_type": "stream",
     "text": [
      "크로스 밸리데이션 평균 점수: 0.88\n"
     ]
    }
   ],
   "source": [
    "scores = cross_val_score(LogisticRegression(), X_train, y_train, cv=5)\n",
    "print(\"크로스 밸리데이션 평균 점수: {:.2f}\".format(np.mean(scores)))"
   ]
  },
  {
   "cell_type": "markdown",
   "metadata": {},
   "source": [
    "- 고차원 희소행렬 데이터의 경우 로지스틱 리그레션을 이용한 분류기의 성능이 가장 좋다\n",
    "- LogisticRegression과 LinearsSVC에서 규제의 강도를 결정하는 매개변수는 C\n",
    "- C의 값이 높아지면 규제가 감소. 높은값을 지정하면, 훈련세트에 가능한 최대로 맞추려 하고, 반면에 C값을 낮추면 모델은 계수 벡터(w)가 0에 가까워지도록 만들어짐. \n",
    "- Ridge와 마찬가지고 L2규제를 사용함. 왜? To avoid overfitting\n",
    "- L1: 영향없는 특성을 없애는 효과, L2: Dominant한 특성의 영향을 줄이는 효과\n",
    "- 그리드 검색을 사용하겠다."
   ]
  },
  {
   "cell_type": "markdown",
   "metadata": {},
   "source": [
    "< 규제 : 더 좋은 모델을 만들기위해 너무 복잡한 모델을 안만들기 위해서 사용\n",
    "Dcision tree를 max_dapth주는것처럼 규제를 줘야한다.\n",
    "규제는 L1과 L2규제가 있다.\n",
    "L1은 전체를 제제한다. 전체를 제제하면 영향력이 작은 컬럼들은 사라진다.(라쏘, 중요한것만)\n",
    "L2는 영향력이 많은 애들은 제제시킨다. 그럼 영향력 없는 애들이 영향력이 생김(릿지, 골고루)\n",
    ">"
   ]
  },
  {
   "cell_type": "code",
   "execution_count": 86,
   "metadata": {},
   "outputs": [],
   "source": [
    "#파라메터에서 최적을 찾아주는 모듈 GridSearchCV\n",
    "from sklearn.model_selection import GridSearchCV"
   ]
  },
  {
   "cell_type": "code",
   "execution_count": 87,
   "metadata": {},
   "outputs": [
    {
     "name": "stdout",
     "output_type": "stream",
     "text": [
      "GridSearchCV(cv=5, error_score='raise-deprecating',\n",
      "       estimator=LogisticRegression(C=1.0, class_weight=None, dual=False, fit_intercept=True,\n",
      "          intercept_scaling=1, max_iter=100, multi_class='warn',\n",
      "          n_jobs=None, penalty='l2', random_state=None, solver='warn',\n",
      "          tol=0.0001, verbose=0, warm_start=False),\n",
      "       fit_params=None, iid='warn', n_jobs=None,\n",
      "       param_grid={'C': [0.01, 0.05, 0.1]}, pre_dispatch='2*n_jobs',\n",
      "       refit=True, return_train_score='warn', scoring=None, verbose=0)\n"
     ]
    }
   ],
   "source": [
    "param_grid = {'C': [0.01, 0.05, 0.1]}\n",
    "grid = GridSearchCV(LogisticRegression(), param_grid, cv=5)\n",
    "print(grid)"
   ]
  },
  {
   "cell_type": "code",
   "execution_count": 88,
   "metadata": {},
   "outputs": [
    {
     "name": "stderr",
     "output_type": "stream",
     "text": [
      "C:\\Users\\pc-21\\Anaconda3\\lib\\site-packages\\sklearn\\linear_model\\logistic.py:433: FutureWarning: Default solver will be changed to 'lbfgs' in 0.22. Specify a solver to silence this warning.\n",
      "  FutureWarning)\n"
     ]
    },
    {
     "name": "stdout",
     "output_type": "stream",
     "text": [
      "최상의 크로스 밸리데이션 점수: 0.89\n",
      "최적의 매개변수:  {'C': 0.05}\n"
     ]
    }
   ],
   "source": [
    "grid.fit(X_train, y_train)\n",
    "print(\"최상의 크로스 밸리데이션 점수: {:.2f}\".format(grid.best_score_))\n",
    "print(\"최적의 매개변수: \", grid.best_params_)"
   ]
  },
  {
   "cell_type": "code",
   "execution_count": 89,
   "metadata": {},
   "outputs": [
    {
     "name": "stdout",
     "output_type": "stream",
     "text": [
      "테스트 점수: 0.88\n"
     ]
    }
   ],
   "source": [
    "X_test = vect.transform(text_test)\n",
    "print(\"테스트 점수: {:.2f}\".format(grid.score(X_test, y_test)))"
   ]
  },
  {
   "cell_type": "code",
   "execution_count": 90,
   "metadata": {},
   "outputs": [
    {
     "data": {
      "text/plain": [
       "0.88212"
      ]
     },
     "execution_count": 90,
     "metadata": {},
     "output_type": "execute_result"
    }
   ],
   "source": [
    "#실제 사용하면 이렇게 하면 된다.\n",
    "model = LogisticRegression(C=0.05)\n",
    "model.fit(X_train,y_train)\n",
    "model.score(X_test, y_test)"
   ]
  },
  {
   "cell_type": "markdown",
   "metadata": {},
   "source": [
    "### 데이터 전처리\n",
    "- 성능을 개선하기 위해서 의미 있는 데이터만 포함하도록 데이터를 전처리한다\n",
    "- 의미 없는 데이터를 삭제해야 성능이 개선된다\n",
    "- CountVectorizer는 모든 영문은 소문자로 바꾼다\n",
    "- 전체 문서중에 적어도 2개의 문서 이상에서 등장한 단어만 고려한다. 적은 수의 문서에서만 등장한 단어는 일반성이 떨어지는 특수 단어이므로 테스트 문서에 나타날 가능성이 거의 없기 때문이다.\n",
    "- 이를 위해 min_df 변수를 지정한다\n",
    "- 아래에 5개 이상의 문서에 나타난 단어만 선택하여 특성의 갯수를 약 1/3인 27000여개로 줄였다\n",
    "- 철자가 틀린 단어도 제외할 수 있다\n",
    "- **어휘 사전에 없던 단어가 테스트 셋에 나타나면 이는 무시한다**"
   ]
  },
  {
   "cell_type": "code",
   "execution_count": 91,
   "metadata": {},
   "outputs": [
    {
     "name": "stdout",
     "output_type": "stream",
     "text": [
      "min_df로 제한한 X_train: <25000x27271 sparse matrix of type '<class 'numpy.int64'>'\n",
      "\twith 3354014 stored elements in Compressed Sparse Row format>\n"
     ]
    }
   ],
   "source": [
    "#|b|w|w + |b => 경계(b)가 구분되고 적어도 둘이상의 문자나 숫자(w)가 연속된 단어를 찾음\n",
    "# 한글자로 된 단어는 찾지 않으며, 축약형은 분리되고, 모두 소문자로 바꿈\n",
    "#의미없는 특성(숫자같은)을 줄이는 방법은? 적어도 두개의 문서(또는 다섯개문서)에 나타난\n",
    "# 단어만 사용. min_df매개변수로 최소 문서 개수를 지정할수 있음. \n",
    "# 전체를 보았을때 5번 이상 나온 데이터만 테이블에 입력하겠다.(이하를 지우겠다.)\n",
    "vect = CountVectorizer(min_df=5).fit(text_train)#학습할 대상을 넣는다., 5개 이상에서만 보려고 다시함\n",
    "X_train = vect.transform(text_train)\n",
    "print(\"min_df로 제한한 X_train: {}\".format(repr(X_train)))"
   ]
  },
  {
   "cell_type": "code",
   "execution_count": 92,
   "metadata": {},
   "outputs": [
    {
     "name": "stdout",
     "output_type": "stream",
     "text": [
      "First 50 features:\n",
      "['00', '000', '007', '00s', '01', '02', '03', '04', '05', '06', '07', '08', '09', '10', '100', '1000', '100th', '101', '102', '103', '104', '105', '107', '108', '10s', '10th', '11', '110', '112', '116', '117', '11th', '12', '120', '12th', '13', '135', '13th', '14', '140', '14th', '15', '150', '15th', '16', '160', '1600', '16mm', '16s', '16th']\n",
      "Features 20010 to 20030:\n",
      "['repentance', 'repercussions', 'repertoire', 'repetition', 'repetitions', 'repetitious', 'repetitive', 'rephrase', 'replace', 'replaced', 'replacement', 'replaces', 'replacing', 'replay', 'replayable', 'replayed', 'replaying', 'replays', 'replete', 'replica']\n",
      "Every 700th feature:\n",
      "['00', 'affections', 'appropriately', 'barbra', 'blurbs', 'butchered', 'cheese', 'commitment', 'courts', 'deconstructed', 'disgraceful', 'dvds', 'eschews', 'fell', 'freezer', 'goriest', 'hauser', 'hungary', 'insinuate', 'juggle', 'leering', 'maelstrom', 'messiah', 'music', 'occasional', 'parking', 'pleasantville', 'pronunciation', 'recipient', 'reviews', 'sas', 'shea', 'sneers', 'steiger', 'swastika', 'thrusting', 'tvs', 'vampyre', 'westerns']\n"
     ]
    }
   ],
   "source": [
    "#밑에있는 단어는 min_df=5이기 때문에 5문장이상 나온 단어들만 나옴\n",
    "feature_names = vect.get_feature_names()\n",
    "\n",
    "print(\"First 50 features:\\n{}\".format(feature_names[:50]))\n",
    "print(\"Features 20010 to 20030:\\n{}\".format(feature_names[20010:20030]))\n",
    "print(\"Every 700th feature:\\n{}\".format(feature_names[::700]))"
   ]
  },
  {
   "cell_type": "code",
   "execution_count": 93,
   "metadata": {},
   "outputs": [
    {
     "name": "stderr",
     "output_type": "stream",
     "text": [
      "C:\\Users\\pc-21\\Anaconda3\\lib\\site-packages\\sklearn\\linear_model\\logistic.py:433: FutureWarning: Default solver will be changed to 'lbfgs' in 0.22. Specify a solver to silence this warning.\n",
      "  FutureWarning)\n"
     ]
    },
    {
     "name": "stdout",
     "output_type": "stream",
     "text": [
      "최적의 크로스 밸리데이션 점수: 0.89\n"
     ]
    }
   ],
   "source": [
    "grid = GridSearchCV(LogisticRegression(), param_grid, cv=5)\n",
    "grid.fit(X_train, y_train)\n",
    "print(\"최적의 크로스 밸리데이션 점수: {:.2f}\".format(grid.best_score_))\n",
    "#모델성능은 별로 개선되지 않았지만 특성의 갯수가 줄어 처리속도가 빨라지고, 불필요한 특성이 없어져\n",
    "#모델을 이해하기 쉬워짐\n",
    "\n",
    "#0.01만 올라도 텍스트마이닝에서는 많이 오른거다"
   ]
  },
  {
   "cell_type": "markdown",
   "metadata": {},
   "source": [
    "### 불용어\n",
    "- 의미없는 단어 제거: 너무 빈번하여 유용하지 않은 단어를 제외\n",
    "- 두가지방법: 언어별 stopword목록을 사용 또는 너무 빈번한 단어 제거\n",
    "- sklearn은 feature_extraction.text 모듈에 영어의 불용어를 포함"
   ]
  },
  {
   "cell_type": "code",
   "execution_count": 94,
   "metadata": {},
   "outputs": [],
   "source": [
    "from sklearn.feature_extraction.text import ENGLISH_STOP_WORDS"
   ]
  },
  {
   "cell_type": "code",
   "execution_count": 95,
   "metadata": {},
   "outputs": [
    {
     "name": "stdout",
     "output_type": "stream",
     "text": [
      "불용어 개수: 318\n",
      "매 5번째 불용어:\n",
      "['she', 'no', 'up', 'yours', 'eg', 'by', 'from', 'go', 'my', 'though', 'thence', 'nevertheless', 'will', 'whence', 're', 'throughout', 'hence', 'meanwhile', 'fifteen', 'a', 'being', 'sometimes', 'more', 'back', 'describe', 'ie', 'forty', 'such', 'several', 'to', 'others', 'everything', 'when', 'six', 'one', 'there', 'thick', 'have', 'empty', 'are', 'call', 'amount', 'someone', 'he', 'cannot', 'along', 'thus', 'over', 'even', 'on']\n"
     ]
    }
   ],
   "source": [
    "print(\"불용어 개수: {}\".format(len(ENGLISH_STOP_WORDS)))\n",
    "print(\"매 5번째 불용어:\\n{}\".format(list(ENGLISH_STOP_WORDS)[:50]))\n",
    "#불용어를 제거하면 특성의 개수가 (318개)만큼 줄고 성능이 향상될수 있음"
   ]
  },
  {
   "cell_type": "code",
   "execution_count": 96,
   "metadata": {},
   "outputs": [
    {
     "name": "stdout",
     "output_type": "stream",
     "text": [
      "불용어가 제거된 X_train:\n",
      "<25000x26966 sparse matrix of type '<class 'numpy.int64'>'\n",
      "\twith 2149958 stored elements in Compressed Sparse Row format>\n"
     ]
    }
   ],
   "source": [
    "# stop_words=\"english\"라고 지정하면 내장된 불용어를 사용합니다.\n",
    "# 내장된 불용어에 추가할 수도 있고 자신만의 리스트를 사용할 수도 있습니다.\n",
    "#stop_words=\"english\"를 사용해서 불용어 318개 지워짐\n",
    "vect = CountVectorizer(min_df=5, stop_words=\"english\").fit(text_train)\n",
    "X_train = vect.transform(text_train)\n",
    "print(\"불용어가 제거된 X_train:\\n{}\".format(repr(X_train)))"
   ]
  },
  {
   "cell_type": "code",
   "execution_count": 97,
   "metadata": {},
   "outputs": [
    {
     "name": "stderr",
     "output_type": "stream",
     "text": [
      "C:\\Users\\pc-21\\Anaconda3\\lib\\site-packages\\sklearn\\linear_model\\logistic.py:433: FutureWarning: Default solver will be changed to 'lbfgs' in 0.22. Specify a solver to silence this warning.\n",
      "  FutureWarning)\n"
     ]
    },
    {
     "name": "stdout",
     "output_type": "stream",
     "text": [
      "최상의 크로스 밸리데이션 점수: 0.88\n"
     ]
    }
   ],
   "source": [
    "grid = GridSearchCV(LogisticRegression(), param_grid, cv=5)\n",
    "grid.fit(X_train, y_train)\n",
    "print(\"최상의 크로스 밸리데이션 점수: {:.2f}\".format(grid.best_score_))"
   ]
  },
  {
   "cell_type": "markdown",
   "metadata": {},
   "source": [
    "- 너무 자주 많은 문서에 나타나는 단어를 제외하는 방법으로 max_df를 지정할 수 있다\n",
    "- 예를 들어 총 25000개 문서중에 20000개 이상의 문서에 모두 나타나는 단어를 제외하려면 max_df=20000 을 지정하면 된다"
   ]
  },
  {
   "cell_type": "code",
   "execution_count": 98,
   "metadata": {},
   "outputs": [],
   "source": [
    "#pipline을 사용하면 각 처리단계에서 필요한 매개변수 탐색을 동시에 수행할수 있음. \n",
    "# 전처리 + 분류 과정을 위해 작성해야 할 코드가 줄어듬\n",
    "# cross_val_score나 GridSearchCV에 파이프라인을 적용하는 예\n",
    "\n",
    "#CountVectorizer의 max_df는 너무 많이 나오는 단어들을 지워준다.\n",
    "#max_df에 따라 LogisticRegression의 C가 다르기 때문에 모든 경우의 수를 확인\n",
    "from sklearn.pipeline import make_pipeline"
   ]
  },
  {
   "cell_type": "markdown",
   "metadata": {},
   "source": [
    "==============***********************************************************************************************=================="
   ]
  },
  {
   "cell_type": "code",
   "execution_count": 104,
   "metadata": {},
   "outputs": [
    {
     "name": "stderr",
     "output_type": "stream",
     "text": [
      "C:\\Users\\pc-21\\Anaconda3\\lib\\site-packages\\sklearn\\linear_model\\logistic.py:433: FutureWarning: Default solver will be changed to 'lbfgs' in 0.22. Specify a solver to silence this warning.\n",
      "  FutureWarning)\n"
     ]
    },
    {
     "name": "stdout",
     "output_type": "stream",
     "text": [
      "최상의 크로스 밸리데이션 점수: 0.89\n",
      "{'countvectorizer__max_df': 10000, 'logisticregression__C': 0.1}\n"
     ]
    }
   ],
   "source": [
    "pipe = make_pipeline(CountVectorizer(), LogisticRegression())\n",
    "param_grid = {'countvectorizer__max_df': [100, 1000,10000], \n",
    "              'logisticregression__C': [0.001, 0.01, 0.1, 1, 10]}\n",
    "#min_df도 추가해보자\n",
    "\n",
    "grid = GridSearchCV(pipe, param_grid, cv=5)\n",
    "grid.fit(text_train, y_train)\n",
    "print(\"최상의 크로스 밸리데이션 점수: {:.2f}\".format(grid.best_score_))\n",
    "print(grid.best_params_)"
   ]
  },
  {
   "cell_type": "markdown",
   "metadata": {},
   "source": [
    "## 그리드서치 정보확인"
   ]
  },
  {
   "cell_type": "code",
   "execution_count": 105,
   "metadata": {},
   "outputs": [],
   "source": [
    "import mglearn\n",
    "import matplotlib.pyplot as plt\n",
    "%matplotlib inline"
   ]
  },
  {
   "cell_type": "code",
   "execution_count": 106,
   "metadata": {},
   "outputs": [
    {
     "name": "stderr",
     "output_type": "stream",
     "text": [
      "C:\\Users\\pc-21\\Anaconda3\\lib\\site-packages\\sklearn\\utils\\deprecation.py:125: FutureWarning: You are accessing a training score ('split0_train_score'), which will not be available by default any more in 0.21. If you need training scores, please set return_train_score=True\n",
      "  warnings.warn(*warn_args, **warn_kwargs)\n",
      "C:\\Users\\pc-21\\Anaconda3\\lib\\site-packages\\sklearn\\utils\\deprecation.py:125: FutureWarning: You are accessing a training score ('split1_train_score'), which will not be available by default any more in 0.21. If you need training scores, please set return_train_score=True\n",
      "  warnings.warn(*warn_args, **warn_kwargs)\n",
      "C:\\Users\\pc-21\\Anaconda3\\lib\\site-packages\\sklearn\\utils\\deprecation.py:125: FutureWarning: You are accessing a training score ('split2_train_score'), which will not be available by default any more in 0.21. If you need training scores, please set return_train_score=True\n",
      "  warnings.warn(*warn_args, **warn_kwargs)\n",
      "C:\\Users\\pc-21\\Anaconda3\\lib\\site-packages\\sklearn\\utils\\deprecation.py:125: FutureWarning: You are accessing a training score ('split3_train_score'), which will not be available by default any more in 0.21. If you need training scores, please set return_train_score=True\n",
      "  warnings.warn(*warn_args, **warn_kwargs)\n",
      "C:\\Users\\pc-21\\Anaconda3\\lib\\site-packages\\sklearn\\utils\\deprecation.py:125: FutureWarning: You are accessing a training score ('split4_train_score'), which will not be available by default any more in 0.21. If you need training scores, please set return_train_score=True\n",
      "  warnings.warn(*warn_args, **warn_kwargs)\n",
      "C:\\Users\\pc-21\\Anaconda3\\lib\\site-packages\\sklearn\\utils\\deprecation.py:125: FutureWarning: You are accessing a training score ('mean_train_score'), which will not be available by default any more in 0.21. If you need training scores, please set return_train_score=True\n",
      "  warnings.warn(*warn_args, **warn_kwargs)\n",
      "C:\\Users\\pc-21\\Anaconda3\\lib\\site-packages\\sklearn\\utils\\deprecation.py:125: FutureWarning: You are accessing a training score ('std_train_score'), which will not be available by default any more in 0.21. If you need training scores, please set return_train_score=True\n",
      "  warnings.warn(*warn_args, **warn_kwargs)\n"
     ]
    },
    {
     "data": {
      "text/plain": [
       "{'mean_fit_time': array([3.5800045 , 3.68961101, 3.80241761, 4.09003377, 4.53585958,\n",
       "        3.47399859, 3.85742054, 4.17043858, 4.82067575, 5.53951688,\n",
       "        4.09683433, 4.56126089, 5.58371944, 7.32381902, 8.60969257]),\n",
       " 'std_fit_time': array([0.27654021, 0.19998011, 0.16199882, 0.1833063 , 0.13030808,\n",
       "        0.09018142, 0.18478545, 0.1265227 , 0.12539239, 0.17228558,\n",
       "        0.16162429, 0.11954432, 0.09448637, 0.62165355, 0.13084088]),\n",
       " 'mean_score_time': array([0.8054461 , 0.79624553, 0.75904326, 0.75404325, 0.75124278,\n",
       "        0.75564322, 0.82684727, 0.77964458, 0.77124414, 0.74384255,\n",
       "        0.90305161, 0.84204812, 0.80564609, 0.79204521, 0.79404531]),\n",
       " 'std_score_time': array([0.0972796 , 0.03912467, 0.00959216, 0.05474982, 0.02862618,\n",
       "        0.03561447, 0.08860618, 0.03037027, 0.02694148, 0.00968352,\n",
       "        0.09112918, 0.01395783, 0.02060798, 0.02195581, 0.02106317]),\n",
       " 'param_countvectorizer__max_df': masked_array(data=[100, 100, 100, 100, 100, 1000, 1000, 1000, 1000, 1000,\n",
       "                    10000, 10000, 10000, 10000, 10000],\n",
       "              mask=[False, False, False, False, False, False, False, False,\n",
       "                    False, False, False, False, False, False, False],\n",
       "        fill_value='?',\n",
       "             dtype=object),\n",
       " 'param_logisticregression__C': masked_array(data=[0.001, 0.01, 0.1, 1, 10, 0.001, 0.01, 0.1, 1, 10,\n",
       "                    0.001, 0.01, 0.1, 1, 10],\n",
       "              mask=[False, False, False, False, False, False, False, False,\n",
       "                    False, False, False, False, False, False, False],\n",
       "        fill_value='?',\n",
       "             dtype=object),\n",
       " 'params': [{'countvectorizer__max_df': 100, 'logisticregression__C': 0.001},\n",
       "  {'countvectorizer__max_df': 100, 'logisticregression__C': 0.01},\n",
       "  {'countvectorizer__max_df': 100, 'logisticregression__C': 0.1},\n",
       "  {'countvectorizer__max_df': 100, 'logisticregression__C': 1},\n",
       "  {'countvectorizer__max_df': 100, 'logisticregression__C': 10},\n",
       "  {'countvectorizer__max_df': 1000, 'logisticregression__C': 0.001},\n",
       "  {'countvectorizer__max_df': 1000, 'logisticregression__C': 0.01},\n",
       "  {'countvectorizer__max_df': 1000, 'logisticregression__C': 0.1},\n",
       "  {'countvectorizer__max_df': 1000, 'logisticregression__C': 1},\n",
       "  {'countvectorizer__max_df': 1000, 'logisticregression__C': 10},\n",
       "  {'countvectorizer__max_df': 10000, 'logisticregression__C': 0.001},\n",
       "  {'countvectorizer__max_df': 10000, 'logisticregression__C': 0.01},\n",
       "  {'countvectorizer__max_df': 10000, 'logisticregression__C': 0.1},\n",
       "  {'countvectorizer__max_df': 10000, 'logisticregression__C': 1},\n",
       "  {'countvectorizer__max_df': 10000, 'logisticregression__C': 10}],\n",
       " 'split0_test_score': array([0.7434, 0.784 , 0.7928, 0.7838, 0.7642, 0.8304, 0.858 , 0.8578,\n",
       "        0.848 , 0.8434, 0.8468, 0.8804, 0.8862, 0.878 , 0.8702]),\n",
       " 'split1_test_score': array([0.7396, 0.7712, 0.7886, 0.772 , 0.758 , 0.8324, 0.8512, 0.8584,\n",
       "        0.8478, 0.8402, 0.8476, 0.8792, 0.8836, 0.8746, 0.8696]),\n",
       " 'split2_test_score': array([0.7516, 0.7912, 0.8038, 0.7858, 0.7718, 0.844 , 0.8606, 0.861 ,\n",
       "        0.8514, 0.841 , 0.8488, 0.8804, 0.8858, 0.8782, 0.8708]),\n",
       " 'split3_test_score': array([0.7496, 0.7788, 0.793 , 0.7792, 0.7654, 0.8368, 0.8582, 0.8628,\n",
       "        0.854 , 0.8492, 0.8498, 0.8814, 0.8916, 0.8872, 0.8826]),\n",
       " 'split4_test_score': array([0.741 , 0.7766, 0.7962, 0.772 , 0.7474, 0.8378, 0.8554, 0.8566,\n",
       "        0.8468, 0.842 , 0.8458, 0.8768, 0.8832, 0.8748, 0.87  ]),\n",
       " 'mean_test_score': array([0.74504, 0.78036, 0.79488, 0.77856, 0.76136, 0.83628, 0.85668,\n",
       "        0.85932, 0.8496 , 0.84316, 0.84776, 0.87964, 0.88608, 0.87856,\n",
       "        0.87264]),\n",
       " 'std_test_score': array([0.00474198, 0.00680047, 0.00507165, 0.00576805, 0.00824078,\n",
       "        0.00472881, 0.0031965 , 0.00225779, 0.00269221, 0.0032035 ,\n",
       "        0.00141647, 0.0015819 , 0.00300027, 0.00458065, 0.00499504]),\n",
       " 'rank_test_score': array([15, 12, 11, 13, 14, 10,  6,  5,  7,  9,  8,  2,  1,  3,  4]),\n",
       " 'split0_train_score': array([0.8076 , 0.87235, 0.9468 , 0.9919 , 0.9978 , 0.8603 , 0.91055,\n",
       "        0.9695 , 0.9978 , 0.99995, 0.8642 , 0.9209 , 0.9771 , 0.99885,\n",
       "        1.     ]),\n",
       " 'split1_train_score': array([0.8058 , 0.8754 , 0.95025, 0.99175, 0.9979 , 0.8638 , 0.91225,\n",
       "        0.9695 , 0.9977 , 0.99995, 0.8639 , 0.92245, 0.97795, 0.9988 ,\n",
       "        1.     ]),\n",
       " 'split2_train_score': array([0.8035 , 0.8714 , 0.94915, 0.99185, 0.9986 , 0.86095, 0.9099 ,\n",
       "        0.96945, 0.99835, 0.99995, 0.86285, 0.92065, 0.97765, 0.99895,\n",
       "        1.     ]),\n",
       " 'split3_train_score': array([0.807  , 0.87405, 0.94645, 0.9919 , 0.9982 , 0.86265, 0.9106 ,\n",
       "        0.9691 , 0.99805, 1.     , 0.86285, 0.9227 , 0.97655, 0.9987 ,\n",
       "        1.     ]),\n",
       " 'split4_train_score': array([0.80755, 0.8739 , 0.94855, 0.9929 , 0.9986 , 0.86155, 0.91205,\n",
       "        0.96925, 0.9976 , 0.99995, 0.8635 , 0.9237 , 0.97745, 0.9989 ,\n",
       "        1.     ]),\n",
       " 'mean_train_score': array([0.80629, 0.87342, 0.94824, 0.99206, 0.99822, 0.86185, 0.91107,\n",
       "        0.96936, 0.9979 , 0.99996, 0.86346, 0.92208, 0.97734, 0.99884,\n",
       "        1.     ]),\n",
       " 'std_train_score': array([1.53831076e-03, 1.39807010e-03, 1.43122325e-03, 4.23556372e-04,\n",
       "        3.37045991e-04, 1.24458829e-03, 9.17932459e-04, 1.59373775e-04,\n",
       "        2.70185122e-04, 2.00000000e-05, 5.45343928e-04, 1.14743192e-03,\n",
       "        4.82078832e-04, 8.60232527e-05, 0.00000000e+00])}"
      ]
     },
     "execution_count": 106,
     "metadata": {},
     "output_type": "execute_result"
    }
   ],
   "source": [
    "grid.cv_results_"
   ]
  },
  {
   "cell_type": "code",
   "execution_count": 107,
   "metadata": {},
   "outputs": [
    {
     "data": {
      "text/plain": [
       "array([[0.74504, 0.77856, 0.85668, 0.84316, 0.88608],\n",
       "       [0.78036, 0.76136, 0.85932, 0.84776, 0.87856],\n",
       "       [0.79488, 0.83628, 0.8496 , 0.87964, 0.87264]])"
      ]
     },
     "execution_count": 107,
     "metadata": {},
     "output_type": "execute_result"
    }
   ],
   "source": [
    "scores = grid.cv_results_['mean_test_score'].reshape(-1, 3).T\n",
    "scores"
   ]
  },
  {
   "cell_type": "code",
   "execution_count": 108,
   "metadata": {},
   "outputs": [
    {
     "data": {
      "text/plain": [
       "<matplotlib.colorbar.Colorbar at 0x1b18e710>"
      ]
     },
     "execution_count": 108,
     "metadata": {},
     "output_type": "execute_result"
    },
    {
     "data": {
      "image/png": "[encoded data removed]",
      "text/plain": [
       "<Figure size 432x288 with 2 Axes>"
      ]
     },
     "metadata": {
      "needs_background": "light"
     },
     "output_type": "display_data"
    }
   ],
   "source": [
    "#scores = grid.cv_results_['mean_test_score'].reshape(-1, 5).T\n",
    "scores = grid.cv_results_['mean_test_score'].reshape(-1, 3).T\n",
    "# 히트맵을 그립니다\n",
    "heatmap = mglearn.tools.heatmap(\n",
    "    scores, xlabel=\"C\", ylabel=\"max_df\", cmap=\"viridis\", fmt=\"%.3f\",\n",
    "    xticklabels=param_grid['logisticregression__C'],\n",
    "    yticklabels=param_grid['countvectorizer__max_df'])\n",
    "plt.colorbar(heatmap)"
   ]
  },
  {
   "cell_type": "markdown",
   "metadata": {},
   "source": [
    "- 중요하지 않아 보이는 특성을 제외하는 대신, 얼마나 의미 있는 특성인지를 계산해서 스케일을 조정하는 방식. \n",
    "- Term frequency inverse document frequency (단어빈도-역문서빈도)\n",
    "- 말뭉치의 다른 문서보다 일부 문서에 자주 나타나는 단어에 높은 가중치를 주는 방법\n",
    "- TfidVectorizer는 (CounterVectorizer의 서브클래스로) 텍스트 데이터를 입력받아 BOW를 만들고, TfidfTransformer를 사용하여 tf-idf 변환을 수행\n",
    "- TfidfTransformer는 CounterVectorizer가 만든 희소 배열을 사용해 tf-idf변환을 함.\n",
    "- tf-idf에는 여러 변종이 있다"
   ]
  },
  {
   "cell_type": "markdown",
   "metadata": {},
   "source": [
    "# ex03"
   ]
  },
  {
   "cell_type": "markdown",
   "metadata": {},
   "source": [
    "### tf–idf로 데이터 스케일 변경\n",
    "\n",
    "\n",
    "\\begin{equation*}\n",
    "\\text{tfidf}(w, d) = \\text{tf} \\times (\\log\\big(\\frac{N + 1}{N_w + 1}\\big) + 1)\n",
    "\\end{equation*}\n",
    "\n",
    "- N은 훈련세트에 있는 문서의 개수, Nw는 단어 w가 나타난 훈련세트문서의 개수이며, \n",
    "- tf(단어빈도수)는 단어 w가 대상문서 d(변환하려는 문서)에 나타난 횟수. \n",
    "- 값 1을 분자, 분모, 그리고 로그 내에 추가한 이유는 분모가 0이되거나 로그값이 0이 되는 것을 방지하기 위해서이다(어떤 단어가 모든 문서에 들어 있는 경우 $log1 = 0$)\n",
    "- tf-idf계산을 한후에 L2정규화를 수행한다. 다시말해, 유크리디안 놈이 1이 되도록 각 문서 벡터의 스케일을 바꾼다. \n",
    "- 이렇게 하는 이유는 벡터 값이 문서의 크기(단어의 수)에 영향을 받지 않도록 하기 위해서임\n",
    "\n",
    "- tf-idf는 실제로 훈련데이터의 통계적 속성을 사용하기 때문에 파이프라인을 사용한 그리드서치가 편리하다"
   ]
  },
  {
   "cell_type": "code",
   "execution_count": 109,
   "metadata": {},
   "outputs": [],
   "source": [
    "#tfidf\n",
    "from sklearn.feature_extraction.text import TfidfVectorizer"
   ]
  },
  {
   "cell_type": "code",
   "execution_count": 110,
   "metadata": {},
   "outputs": [
    {
     "name": "stderr",
     "output_type": "stream",
     "text": [
      "C:\\Users\\pc-21\\Anaconda3\\lib\\site-packages\\sklearn\\linear_model\\logistic.py:433: FutureWarning: Default solver will be changed to 'lbfgs' in 0.22. Specify a solver to silence this warning.\n",
      "  FutureWarning)\n"
     ]
    },
    {
     "name": "stdout",
     "output_type": "stream",
     "text": [
      "최상의 교차검증 점수: 0.89\n",
      "{'logisticregression__C': 10}\n"
     ]
    }
   ],
   "source": [
    "from sklearn.pipeline import make_pipeline\n",
    "\n",
    "pipe = make_pipeline(TfidfVectorizer(min_df=5), LogisticRegression())\n",
    "#param_grid = {'logisticregression__C': [0.1]}\n",
    "param_grid = {'logisticregression__C': [0.001, 0.01, 0.1, 1, 10]}\n",
    "\n",
    "grid = GridSearchCV(pipe, param_grid, cv=5)\n",
    "grid.fit(text_train, y_train)\n",
    "print(\"최상의 교차검증 점수: {:.2f}\".format(grid.best_score_))\n",
    "print(grid.best_params_)"
   ]
  },
  {
   "cell_type": "code",
   "execution_count": 111,
   "metadata": {},
   "outputs": [
    {
     "data": {
      "text/plain": [
       "TfidfVectorizer(analyzer='word', binary=False, decode_error='strict',\n",
       "        dtype=<class 'numpy.float64'>, encoding='utf-8', input='content',\n",
       "        lowercase=True, max_df=1.0, max_features=None, min_df=1,\n",
       "        ngram_range=(1, 1), norm='l2', preprocessor=None, smooth_idf=True,\n",
       "        stop_words=None, strip_accents=None, sublinear_tf=False,\n",
       "        token_pattern='(?u)\\\\b\\\\w\\\\w+\\\\b', tokenizer=None, use_idf=True,\n",
       "        vocabulary=None)"
      ]
     },
     "execution_count": 111,
     "metadata": {},
     "output_type": "execute_result"
    }
   ],
   "source": [
    "TfidfVectorizer()"
   ]
  },
  {
   "cell_type": "code",
   "execution_count": 112,
   "metadata": {},
   "outputs": [
    {
     "name": "stderr",
     "output_type": "stream",
     "text": [
      "C:\\Users\\pc-21\\Anaconda3\\lib\\site-packages\\sklearn\\linear_model\\logistic.py:433: FutureWarning: Default solver will be changed to 'lbfgs' in 0.22. Specify a solver to silence this warning.\n",
      "  FutureWarning)\n"
     ]
    },
    {
     "name": "stdout",
     "output_type": "stream",
     "text": [
      "최상의 교차검증 점수: 0.89\n",
      "{'logisticregression__C': 10, 'tfidfvectorizer__min_df': 3}\n"
     ]
    }
   ],
   "source": [
    "#예제 최상의 C와 min_df를 찾아보자\n",
    "pipe = make_pipeline(TfidfVectorizer(), LogisticRegression())\n",
    "param_grid = {'tfidfvectorizer__min_df': [3,4,5,6,7], \n",
    "                'logisticregression__C': [0.1,1,10]}\n",
    "# param_grid = {'logisticregression__C': [0.001, 0.01, 0.1, 1, 10]}\n",
    "\n",
    "grid = GridSearchCV(pipe, param_grid, cv=5)\n",
    "grid.fit(text_train, y_train)\n",
    "print(\"최상의 교차검증 점수: {:.2f}\".format(grid.best_score_))\n",
    "print(grid.best_params_)"
   ]
  },
  {
   "cell_type": "code",
   "execution_count": 113,
   "metadata": {},
   "outputs": [
    {
     "data": {
      "text/plain": [
       "<matplotlib.colorbar.Colorbar at 0x1b73b0f0>"
      ]
     },
     "execution_count": 113,
     "metadata": {},
     "output_type": "execute_result"
    },
    {
     "data": {
      "image/png": "[encoded data removed]",
      "text/plain": [
       "<Figure size 432x288 with 2 Axes>"
      ]
     },
     "metadata": {
      "needs_background": "light"
     },
     "output_type": "display_data"
    }
   ],
   "source": [
    "#scores = grid.cv_results_['mean_test_score'].reshape(-1, 5).T\n",
    "scores = grid.cv_results_['mean_test_score'].reshape(-1, 3)\n",
    "# 히트맵을 그립니다\n",
    "heatmap = mglearn.tools.heatmap(\n",
    "    scores, xlabel=\"C\", ylabel=\"max_df\", cmap=\"viridis\", fmt=\"%.3f\",\n",
    "    xticklabels=param_grid['logisticregression__C'],\n",
    "    yticklabels=param_grid['tfidfvectorizer__min_df'])\n",
    "plt.colorbar(heatmap)"
   ]
  },
  {
   "cell_type": "markdown",
   "metadata": {},
   "source": [
    "- 최상의 점수가 0.89로서 개선된 것은 없다\n",
    "- 이 예에서는 tf-idf가 성능에 큰 영향을 주지 못한다. 그러나 tf-idf는 어떤 단어가 가장 중요한지 알려준다"
   ]
  },
  {
   "cell_type": "code",
   "execution_count": 114,
   "metadata": {},
   "outputs": [
    {
     "data": {
      "text/plain": [
       "TfidfVectorizer(analyzer='word', binary=False, decode_error='strict',\n",
       "        dtype=<class 'numpy.float64'>, encoding='utf-8', input='content',\n",
       "        lowercase=True, max_df=1.0, max_features=None, min_df=3,\n",
       "        ngram_range=(1, 1), norm='l2', preprocessor=None, smooth_idf=True,\n",
       "        stop_words=None, strip_accents=None, sublinear_tf=False,\n",
       "        token_pattern='(?u)\\\\b\\\\w\\\\w+\\\\b', tokenizer=None, use_idf=True,\n",
       "        vocabulary=None)"
      ]
     },
     "execution_count": 114,
     "metadata": {},
     "output_type": "execute_result"
    }
   ],
   "source": [
    "#파이프라인에서 TfidVectorizer단계를 선택 (소문자로 표현된다)\n",
    "vectorizer = grid.best_estimator_.named_steps[\"tfidfvectorizer\"]\n",
    "vectorizer"
   ]
  },
  {
   "cell_type": "code",
   "execution_count": 115,
   "metadata": {},
   "outputs": [],
   "source": [
    "# 훈련 데이터셋을 변환합니다\n",
    "X_train = vectorizer.transform(text_train)"
   ]
  },
  {
   "cell_type": "code",
   "execution_count": 116,
   "metadata": {},
   "outputs": [
    {
     "data": {
      "text/plain": [
       "array([0.38654455, 0.31318054, 0.272404  , ..., 0.40945167, 0.1385818 ,\n",
       "       0.18461612])"
      ]
     },
     "execution_count": 116,
     "metadata": {},
     "output_type": "execute_result"
    }
   ],
   "source": [
    "# 특성별로 가장 큰 값을 찾습니다\n",
    "#ravel : 다차원 배열을 1차원으로 펴줌\n",
    "max_value = X_train.max(axis=0).toarray().ravel()\n",
    "max_value"
   ]
  },
  {
   "cell_type": "code",
   "execution_count": 117,
   "metadata": {},
   "outputs": [],
   "source": [
    "#argsort : 정렬했을 때의 인덱스\n",
    "sorted_by_tfidf = max_value.argsort()"
   ]
  },
  {
   "cell_type": "code",
   "execution_count": 118,
   "metadata": {},
   "outputs": [
    {
     "name": "stdout",
     "output_type": "stream",
     "text": [
      "가장 낮은 tfidf를 가진 특성:\n",
      "['superplex' 'avenged' 'suplexes' 'estella' 'shatters' 'diagram' '38th'\n",
      " 'firecracker' 'anathema' 'exalted' 'poncho' 'primus' 'fulgencio'\n",
      " 'burnish' 'summoning' 'profited' 'boardwalk' 'kingsford' 'deconstructs'\n",
      " 'intriguingly']\n",
      "가장 높은 tfidf를 가진 특성: \n",
      "['gadget' 'weller' 'kibbutz' 'sucks' 'zatoichi' 'demons' 'colombo' 'bye'\n",
      " 'sasquatch' 'botched' 'darkman' 'woo' 'doodlebops' 'wei' 'lupin'\n",
      " 'smallville' 'steve' 'nr' 'scanners' 'pokemon']\n"
     ]
    }
   ],
   "source": [
    "# 특성 이름을 구합니다\n",
    "feature_names = np.array(vectorizer.get_feature_names())\n",
    "\n",
    "print(\"가장 낮은 tfidf를 가진 특성:\\n{}\".format(\n",
    "      feature_names[sorted_by_tfidf[:20]]))\n",
    "\n",
    "print(\"가장 높은 tfidf를 가진 특성: \\n{}\".format(\n",
    "      feature_names[sorted_by_tfidf[-20:]]))"
   ]
  },
  {
   "cell_type": "markdown",
   "metadata": {},
   "source": [
    "- tf-idf가 낮은 특성은 전체 문서에 걸쳐 매우 많이 나타나거나, 조금씩만 사용되거나, 매우 긴문서에만 사용됨. 전체문서에 걸쳐 많이 나타나면 idf값이 1에 가깝게 되고, 조금씩 사용되거나 매우 긴문서에서만 사용되면 L2정규화 때문에 tf-idf값이 작아짐\n",
    "- tf-idf가 높은 특성은 특정한 영화를 나타낸다(위에서 pokemon 등).\n",
    "- idf 값이 낮은 단어는 모든 문서에 자주 나타나서 덜 중요하다고 판단된다. \"the\"난 \"no\"같은 영어의 불용어가 해당된다. \"good\", \"grear\" \"bad\"도 매우 자주 나타나는 단어이며 감성분석에는 매우 중요하겠지만 tf-idf로 봤을 때는 덜 중요한 단어가 된다\n",
    "- 아래에서 movie 같은 단어는 영화 리뷰이므로 나타나는 것이다"
   ]
  },
  {
   "cell_type": "code",
   "execution_count": 119,
   "metadata": {},
   "outputs": [
    {
     "name": "stdout",
     "output_type": "stream",
     "text": [
      "가장 낮은 idf를 가진 특성:\n",
      "['the' 'and' 'of' 'to' 'this' 'is' 'it' 'in' 'that' 'but' 'for' 'with'\n",
      " 'was' 'as' 'on' 'movie' 'not' 'have' 'one' 'be' 'film' 'are' 'you' 'all'\n",
      " 'at' 'an' 'by' 'so' 'from' 'like' 'who' 'they' 'there' 'if' 'his' 'out'\n",
      " 'just' 'about' 'he' 'or' 'has' 'what' 'some' 'good' 'can' 'more' 'when'\n",
      " 'time' 'up' 'very' 'even' 'only' 'no' 'would' 'my' 'see' 'really' 'story'\n",
      " 'which' 'well' 'had' 'me' 'than' 'much' 'their' 'get' 'were' 'other'\n",
      " 'been' 'do' 'most' 'don' 'her' 'also' 'into' 'first' 'made' 'how' 'great'\n",
      " 'because' 'will' 'people' 'make' 'way' 'could' 'we' 'bad' 'after' 'any'\n",
      " 'too' 'then' 'them' 'she' 'watch' 'think' 'acting' 'movies' 'seen' 'its'\n",
      " 'him']\n"
     ]
    }
   ],
   "source": [
    "#idf값이 낮은단어 : 자주나타나서 덜 중요하다고 생각되는 단어들\n",
    "#가장낮은 특징들의 인덱스를 가지고와서 넣어줌\n",
    "sorted_by_idf = np.argsort(vectorizer.idf_)\n",
    "print(\"가장 낮은 idf를 가진 특성:\\n{}\".format(\n",
    "       feature_names[sorted_by_idf[:100]]))"
   ]
  },
  {
   "cell_type": "code",
   "execution_count": 120,
   "metadata": {},
   "outputs": [
    {
     "name": "stdout",
     "output_type": "stream",
     "text": [
      "가장 높은 idf를 가진 특성:\n",
      "['gluttonous' 'glynn' 'gnat' 'password' 'passports' 'gnawing' 'passably'\n",
      " 'slugged' 'thew' 'slugger' 'slugging' 'goggle' 'thinning' 'gogh' 'gogo'\n",
      " 'sluggishly' 'thinned' 'gokbakar' 'godfathers' 'screwy']\n"
     ]
    }
   ],
   "source": [
    "print(\"가장 높은 idf를 가진 특성:\\n{}\".format(\n",
    "       feature_names[sorted_by_idf[-20:]]))"
   ]
  },
  {
   "cell_type": "markdown",
   "metadata": {},
   "source": [
    "### 모델 계수 조사\n",
    "- 로지스틱 회귀모델이 실제로 이 데이터에서 무엇을 학습했는지 살펴보자\n",
    "- 현재는 자주 나타나지 않은 단어를 제외해도 특성이 27,271개. 모두 확인할 수 없음\n",
    "- 가장 큰 값의 계수와 해당 단어를 확인해 봄"
   ]
  },
  {
   "cell_type": "code",
   "execution_count": 121,
   "metadata": {},
   "outputs": [
    {
     "data": {
      "text/plain": [
       "array([[-0.44131739, -0.35302181, -0.04356478, ..., -0.08750559,\n",
       "        -0.3346812 , -0.38532243]])"
      ]
     },
     "execution_count": 121,
     "metadata": {},
     "output_type": "execute_result"
    }
   ],
   "source": [
    "grid.best_estimator_.named_steps[\"logisticregression\"].coef_"
   ]
  },
  {
   "cell_type": "code",
   "execution_count": 122,
   "metadata": {},
   "outputs": [
    {
     "data": {
      "text/plain": [
       "(35852,)"
      ]
     },
     "execution_count": 122,
     "metadata": {},
     "output_type": "execute_result"
    }
   ],
   "source": [
    "grid.best_estimator_.named_steps[\"logisticregression\"].coef_[0].shape"
   ]
  },
  {
   "cell_type": "code",
   "execution_count": 123,
   "metadata": {},
   "outputs": [
    {
     "data": {
      "text/plain": [
       "array(['00', '000', '001', ..., 'zwick', 'émigré', 'über'], dtype='<U20')"
      ]
     },
     "execution_count": 123,
     "metadata": {},
     "output_type": "execute_result"
    }
   ],
   "source": [
    "feature_names"
   ]
  },
  {
   "cell_type": "code",
   "execution_count": 124,
   "metadata": {},
   "outputs": [
    {
     "data": {
      "image/png": "[encoded data removed]",
      "text/plain": [
       "<Figure size 1080x360 with 1 Axes>"
      ]
     },
     "metadata": {
      "needs_background": "light"
     },
     "output_type": "display_data"
    }
   ],
   "source": [
    "#visualize : 시각화하다\n",
    "#coefficients : 계수\n",
    "mglearn.tools.visualize_coefficients(\n",
    "    grid.best_estimator_.named_steps[\"logisticregression\"].coef_[0],\n",
    "    feature_names, n_top_features=40)"
   ]
  },
  {
   "cell_type": "markdown",
   "metadata": {},
   "source": [
    "### 여러 단어로 만든 BOW (n-Grams)\n",
    "\n",
    "- BOW표현방식은 단어의 순서가 완전히 무시된다는 것이 큰 단점임. \n",
    "- it's bad, not good at all = it's good, not bad at all\n",
    "- 단어 앞에 있는 \"not\"은 문맥의 중요성을 잘 보여주는 예\n",
    "- BOW표현방식을 사용할때 문맥을 고려하는 방법이 있음. \n",
    "- 토큰 하나의 횟수만 고려하지 않고, 옆에 있는 두세개의 토큰을 함께 고려하는 방식\n",
    "- 토큰 두개를 bigram, 세개를 trigram, 연속된 토큰을 n-gram\n",
    "- CountVectorizer와 TfidVectorizer는 n-gram range를 매개변수 특성으로 지정\n",
    "- 입력값은 튜플이며 연속된 토큰의 최소길이와 최대길이"
   ]
  },
  {
   "cell_type": "code",
   "execution_count": 125,
   "metadata": {},
   "outputs": [
    {
     "name": "stdout",
     "output_type": "stream",
     "text": [
      "bards_words:\n",
      "['The fool doth think he is wise,', 'but the wise man man knows himself to be a fool']\n"
     ]
    }
   ],
   "source": [
    "print(\"bards_words:\\n{}\".format(bards_words))"
   ]
  },
  {
   "cell_type": "code",
   "execution_count": 126,
   "metadata": {},
   "outputs": [
    {
     "name": "stdout",
     "output_type": "stream",
     "text": [
      "어휘 사전 크기: 13\n",
      "어휘 사전:\n",
      "['be', 'but', 'doth', 'fool', 'he', 'himself', 'is', 'knows', 'man', 'the', 'think', 'to', 'wise']\n"
     ]
    }
   ],
   "source": [
    "#ungream만 할대\n",
    "cv = CountVectorizer(ngram_range=(1, 1)).fit(bards_words)\n",
    "print(\"어휘 사전 크기: {}\".format(len(cv.vocabulary_)))\n",
    "print(\"어휘 사전:\\n{}\".format(cv.get_feature_names()))"
   ]
  },
  {
   "cell_type": "code",
   "execution_count": 127,
   "metadata": {},
   "outputs": [
    {
     "name": "stdout",
     "output_type": "stream",
     "text": [
      "어휘 사전 크기: 15\n",
      "어휘 사전:\n",
      "['be fool', 'but the', 'doth think', 'fool doth', 'he is', 'himself to', 'is wise', 'knows himself', 'man knows', 'man man', 'the fool', 'the wise', 'think he', 'to be', 'wise man']\n"
     ]
    }
   ],
   "source": [
    "#연속된 토큰의 수가 커지면 보통 특성이 더 구체적이고 많이 만들어짐\n",
    "#bigream만 할때\n",
    "cv = CountVectorizer(ngram_range=(2, 2)).fit(bards_words)\n",
    "print(\"어휘 사전 크기: {}\".format(len(cv.vocabulary_)))\n",
    "print(\"어휘 사전:\\n{}\".format(cv.get_feature_names()))"
   ]
  },
  {
   "cell_type": "code",
   "execution_count": 128,
   "metadata": {},
   "outputs": [
    {
     "name": "stdout",
     "output_type": "stream",
     "text": [
      "변환된 데이터 (밀집 배열):\n",
      "[[0 0 1 1 1 0 1 0 0 0 1 0 1 0 0]\n",
      " [1 1 0 0 0 1 0 1 1 1 0 1 0 1 1]]\n"
     ]
    }
   ],
   "source": [
    "#bar-words에 있는 두문장사이에는 공통된 바이그램이 없음. \n",
    "print(\"변환된 데이터 (밀집 배열):\\n{}\".format(cv.transform(bards_words).toarray()))"
   ]
  },
  {
   "cell_type": "code",
   "execution_count": 129,
   "metadata": {},
   "outputs": [
    {
     "name": "stdout",
     "output_type": "stream",
     "text": [
      "어휘 사전 크기: 41\n",
      "어휘 사전:['be', 'be fool', 'but', 'but the', 'but the wise', 'doth', 'doth think', 'doth think he', 'fool', 'fool doth', 'fool doth think', 'he', 'he is', 'he is wise', 'himself', 'himself to', 'himself to be', 'is', 'is wise', 'knows', 'knows himself', 'knows himself to', 'man', 'man knows', 'man knows himself', 'man man', 'man man knows', 'the', 'the fool', 'the fool doth', 'the wise', 'the wise man', 'think', 'think he', 'think he is', 'to', 'to be', 'to be fool', 'wise', 'wise man', 'wise man man']\n",
      "\n"
     ]
    }
   ],
   "source": [
    "#5그램까지는 도움이 되지만 특성의 개수가 매우 많아지며, 과대적합될 가능성이 있음. \n",
    "#바이그램의 수는 유니그램수의 제곱, 트라이그램의 수는 유니그램의 세제곱\n",
    "# 유니그램, 바이그램, 트라이그램을 적용한 예\n",
    "cv = CountVectorizer(ngram_range=(1, 3)).fit(bards_words)\n",
    "print(\"어휘 사전 크기: {}\".format(len(cv.vocabulary_)))\n",
    "print(\"어휘 사전:{}\\n\".format(cv.get_feature_names()))"
   ]
  },
  {
   "cell_type": "code",
   "execution_count": 130,
   "metadata": {},
   "outputs": [
    {
     "name": "stderr",
     "output_type": "stream",
     "text": [
      "C:\\Users\\pc-21\\Anaconda3\\lib\\site-packages\\sklearn\\linear_model\\logistic.py:433: FutureWarning: Default solver will be changed to 'lbfgs' in 0.22. Specify a solver to silence this warning.\n",
      "  FutureWarning)\n"
     ]
    },
    {
     "name": "stdout",
     "output_type": "stream",
     "text": [
      "최상의 크로스 밸리데이션 점수: 0.91\n",
      "최적의 매개변수:\n",
      "{'logisticregression__C': 100, 'tfidfvectorizer__ngram_range': (1, 3)}\n"
     ]
    }
   ],
   "source": [
    "#IMDb영화리뷰 데이터에 TfidfVectorizer를 적용하고, \n",
    "#그리드서치로 최적의 n-그램 범위를 찾아보자\n",
    "pipe = make_pipeline(TfidfVectorizer(min_df=3), LogisticRegression())\n",
    "# 매개변수 조합이 많고 트라이그램이 포함되어 있기 때문에 그리드 서치 실행에 시간이 오래 걸린다\n",
    "\n",
    "param_grid = {'logisticregression__C': [0.01, 0.1, 1, 10, 100],\n",
    "               \"tfidfvectorizer__ngram_range\": [(1, 1), (1, 2), (1, 3)]}\n",
    "\n",
    "# param_grid = {'logisticregression__C': [0.1],\n",
    "#               \"tfidfvectorizer__ngram_range\": [(1, 2)]}\n",
    "\n",
    "grid = GridSearchCV(pipe, param_grid, cv=5)\n",
    "grid.fit(text_train, y_train)\n",
    "print(\"최상의 크로스 밸리데이션 점수: {:.2f}\".format(grid.best_score_))\n",
    "print(\"최적의 매개변수:\\n{}\".format(grid.best_params_))\n",
    "# 바이그램과 트라이그램을 추가해서 성능이 1%이상 올라감. "
   ]
  },
  {
   "cell_type": "code",
   "execution_count": 131,
   "metadata": {},
   "outputs": [],
   "source": [
    "#ngram_range와 C 매개변수에 대한 교차검증 정확도를 히트맵으로 나타내보자. \n",
    "# 그리드 서치에서 테스트 점수를 추출합니다\n",
    "scores = grid.cv_results_['mean_test_score'].reshape(-1, 5).T"
   ]
  },
  {
   "cell_type": "code",
   "execution_count": 132,
   "metadata": {},
   "outputs": [
    {
     "data": {
      "text/plain": [
       "<matplotlib.colorbar.Colorbar at 0x2c598940>"
      ]
     },
     "execution_count": 132,
     "metadata": {},
     "output_type": "execute_result"
    },
    {
     "data": {
      "image/png": "[encoded data removed]",
      "text/plain": [
       "<Figure size 432x288 with 2 Axes>"
      ]
     },
     "metadata": {
      "needs_background": "light"
     },
     "output_type": "display_data"
    }
   ],
   "source": [
    "# 히트맵을 그립니다\n",
    "heatmap = mglearn.tools.heatmap(\n",
    "    scores, xlabel=\"C\", ylabel=\"ngram_range\", cmap=\"viridis\", fmt=\"%.3f\",\n",
    "    xticklabels=param_grid['tfidfvectorizer__ngram_range'],\n",
    "    yticklabels=param_grid['logisticregression__C'])\n",
    "plt.colorbar(heatmap)"
   ]
  },
  {
   "cell_type": "markdown",
   "metadata": {},
   "source": [
    "- 히트맵을 보니 바이그램이 성능을 크게 높여주며, 트라이그램은 정확도 측면에서 성능이 조금만 향상됨\n",
    "- 모델이 어떻게 향상됐는지 더 잘 이해하기위해 유니그램, 바이그램, 트라이그램을 포함해 최적모델을 중요계수를 그래프로 나타냄."
   ]
  },
  {
   "cell_type": "code",
   "execution_count": 133,
   "metadata": {},
   "outputs": [
    {
     "data": {
      "text/plain": [
       "(-22, 22)"
      ]
     },
     "execution_count": 133,
     "metadata": {},
     "output_type": "execute_result"
    },
    {
     "data": {
      "image/png": "[encoded data removed]",
      "text/plain": [
       "<Figure size 1080x360 with 1 Axes>"
      ]
     },
     "metadata": {
      "needs_background": "light"
     },
     "output_type": "display_data"
    }
   ],
   "source": [
    "# 특성 이름과 계수를 추출합니다\n",
    "vect = grid.best_estimator_.named_steps['tfidfvectorizer']\n",
    "feature_names = np.array(vect.get_feature_names())\n",
    "coef = grid.best_estimator_.named_steps['logisticregression'].coef_\n",
    "mglearn.tools.visualize_coefficients(coef[0], feature_names, n_top_features=40)\n",
    "plt.ylim(-22, 22)"
   ]
  },
  {
   "cell_type": "code",
   "execution_count": 134,
   "metadata": {},
   "outputs": [],
   "source": [
    "# 트라이그램 특성을 찾습니다\n",
    "mask = np.array([len(feature.split(\" \")) for feature in feature_names]) == 3\n",
    "# 트라이그램 특성만 그래프로 나타냅니다"
   ]
  },
  {
   "cell_type": "code",
   "execution_count": 135,
   "metadata": {},
   "outputs": [
    {
     "data": {
      "text/plain": [
       "(-22, 22)"
      ]
     },
     "execution_count": 135,
     "metadata": {},
     "output_type": "execute_result"
    },
    {
     "data": {
      "image/png": "[encoded data removed]",
      "text/plain": [
       "<Figure size 1080x360 with 1 Axes>"
      ]
     },
     "metadata": {
      "needs_background": "light"
     },
     "output_type": "display_data"
    }
   ],
   "source": [
    "mglearn.tools.visualize_coefficients(coef.ravel()[mask],\n",
    "                                     feature_names[mask], n_top_features=40)\n",
    "plt.ylim(-22, 22)\n",
    "#유니그램의 중요도와 비교하였을때 상당히 제한적임을 알 수 있음. "
   ]
  },
  {
   "cell_type": "code",
   "execution_count": null,
   "metadata": {},
   "outputs": [],
   "source": []
  },
  {
   "cell_type": "code",
   "execution_count": null,
   "metadata": {},
   "outputs": [],
   "source": []
  },
  {
   "cell_type": "code",
   "execution_count": null,
   "metadata": {},
   "outputs": [],
   "source": []
  }
 ],
 "metadata": {
  "kernelspec": {
   "display_name": "Python 3",
   "language": "python",
   "name": "python3"
  },
  "language_info": {
   "codemirror_mode": {
    "name": "ipython",
    "version": 3
   },
   "file_extension": ".py",
   "mimetype": "text/x-python",
   "name": "python",
   "nbconvert_exporter": "python",
   "pygments_lexer": "ipython3",
   "version": "3.7.3"
  }
 },
 "nbformat": 4,
 "nbformat_minor": 2
}
